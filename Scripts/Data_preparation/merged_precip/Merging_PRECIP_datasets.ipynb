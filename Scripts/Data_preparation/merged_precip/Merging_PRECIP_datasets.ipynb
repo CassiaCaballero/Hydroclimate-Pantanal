{
 "cells": [
  {
   "cell_type": "markdown",
   "source": [
    "# Precipitation dataset = from ERA5-Land and ANA stations"
   ],
   "metadata": {
    "collapsed": false
   },
   "id": "c3e2d5163311f659"
  },
  {
   "cell_type": "markdown",
   "source": [
    "Unifying PRECIP data from ERA5 for the non Brazilian part of the Basin, with ANA data from the 73 stations for the Brazilian part of the BHPM"
   ],
   "metadata": {
    "collapsed": false
   },
   "id": "b56c955f22dd54ec"
  },
  {
   "cell_type": "code",
   "execution_count": 1,
   "id": "4ed456fa-7505-4e4b-8a12-914dda51c443",
   "metadata": {
    "ExecuteTime": {
     "end_time": "2024-10-31T15:02:36.513059100Z",
     "start_time": "2024-10-31T15:02:35.690718400Z"
    }
   },
   "outputs": [
    {
     "name": "stderr",
     "output_type": "stream",
     "text": [
      "C:\\Users\\cb3910\\AppData\\Local\\Temp\\ipykernel_50396\\2035458946.py:1: DeprecationWarning: \n",
      "Pyarrow will become a required dependency of pandas in the next major release of pandas (pandas 3.0),\n",
      "(to allow more performant data types, such as the Arrow string type, and better interoperability with other libraries)\n",
      "but was not found to be installed on your system.\n",
      "If this would cause problems for you,\n",
      "please provide us feedback at https://github.com/pandas-dev/pandas/issues/54466\n",
      "        \n",
      "  import pandas as pd\n"
     ]
    }
   ],
   "source": [
    "import pandas as pd"
   ]
  },
  {
   "cell_type": "code",
   "execution_count": 3,
   "id": "e5bdeb1f-a5ec-4932-8e6a-54798c6c222a",
   "metadata": {
    "ExecuteTime": {
     "end_time": "2024-10-31T15:03:06.503732500Z",
     "start_time": "2024-10-31T15:03:06.496570700Z"
    }
   },
   "outputs": [],
   "source": [
    "P_era5 = pd.read_csv(r'\\Data\\ERA-5_annualPRECIP_BHPM_nonBrazil.csv')"
   ]
  },
  {
   "cell_type": "code",
   "execution_count": 5,
   "id": "b57785a6-c6e7-4a7c-8c0e-5741aea9e00d",
   "metadata": {
    "ExecuteTime": {
     "end_time": "2024-10-31T15:03:45.282987600Z",
     "start_time": "2024-10-31T15:03:45.273849400Z"
    }
   },
   "outputs": [],
   "source": [
    "P_ana = pd.read_csv(r'\\merged_precip\\precip_ANA_stations.csv', usecols = ['media_estacao', 'hydro_year'])"
   ]
  },
  {
   "cell_type": "code",
   "execution_count": 6,
   "id": "2abb8f74-e293-4d3d-9a15-eec0c235f5ac",
   "metadata": {
    "ExecuteTime": {
     "end_time": "2024-10-31T15:03:54.738511500Z",
     "start_time": "2024-10-31T15:03:54.686992900Z"
    }
   },
   "outputs": [],
   "source": [
    "df = pd.merge(P_era5, P_ana, on='hydro_year')"
   ]
  },
  {
   "cell_type": "code",
   "execution_count": 18,
   "outputs": [],
   "source": [
    "df['Precip_basin'] = (df['PRECIP']+df['media_estacao'])/2"
   ],
   "metadata": {
    "collapsed": false,
    "ExecuteTime": {
     "end_time": "2024-09-27T21:33:59.866581600Z",
     "start_time": "2024-09-27T21:33:59.861133200Z"
    }
   },
   "id": "69ada393-df4d-4aaf-97b2-228fecdd1224"
  },
  {
   "cell_type": "code",
   "execution_count": 13,
   "outputs": [],
   "source": [
    "df.to_csv('Data/merged_Precip.csv')"
   ],
   "metadata": {
    "collapsed": false
   },
   "id": "df5a36e2-1169-4667-a7cb-3b65c92c8c9b"
  },
  {
   "cell_type": "code",
   "execution_count": null,
   "outputs": [],
   "source": [],
   "metadata": {
    "collapsed": false
   },
   "id": "d7a9a23defe680bd"
  }
 ],
 "metadata": {
  "kernelspec": {
   "display_name": "Python 3 (ipykernel)",
   "language": "python",
   "name": "python3"
  },
  "language_info": {
   "codemirror_mode": {
    "name": "ipython",
    "version": 3
   },
   "file_extension": ".py",
   "mimetype": "text/x-python",
   "name": "python",
   "nbconvert_exporter": "python",
   "pygments_lexer": "ipython3",
   "version": "3.10.10"
  }
 },
 "nbformat": 4,
 "nbformat_minor": 5
}
